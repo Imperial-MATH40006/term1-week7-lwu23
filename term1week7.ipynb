{
 "cells": [
  {
   "cell_type": "code",
   "execution_count": 1,
   "metadata": {},
   "outputs": [
    {
     "name": "stdout",
     "output_type": "stream",
     "text": [
      "Requirement already satisfied: plotchecker in c:\\users\\larry\\anaconda3\\lib\\site-packages (0.2.0)\n",
      "Requirement already satisfied: matplotlib>=2 in c:\\users\\larry\\anaconda3\\lib\\site-packages (from plotchecker) (3.9.2)\n",
      "Requirement already satisfied: numpy in c:\\users\\larry\\anaconda3\\lib\\site-packages (from plotchecker) (1.26.4)\n",
      "Requirement already satisfied: six in c:\\users\\larry\\anaconda3\\lib\\site-packages (from plotchecker) (1.16.0)\n",
      "Requirement already satisfied: contourpy>=1.0.1 in c:\\users\\larry\\anaconda3\\lib\\site-packages (from matplotlib>=2->plotchecker) (1.2.0)\n",
      "Requirement already satisfied: cycler>=0.10 in c:\\users\\larry\\anaconda3\\lib\\site-packages (from matplotlib>=2->plotchecker) (0.11.0)\n",
      "Requirement already satisfied: fonttools>=4.22.0 in c:\\users\\larry\\anaconda3\\lib\\site-packages (from matplotlib>=2->plotchecker) (4.51.0)\n",
      "Requirement already satisfied: kiwisolver>=1.3.1 in c:\\users\\larry\\anaconda3\\lib\\site-packages (from matplotlib>=2->plotchecker) (1.4.4)\n",
      "Requirement already satisfied: packaging>=20.0 in c:\\users\\larry\\anaconda3\\lib\\site-packages (from matplotlib>=2->plotchecker) (24.1)\n",
      "Requirement already satisfied: pillow>=8 in c:\\users\\larry\\anaconda3\\lib\\site-packages (from matplotlib>=2->plotchecker) (10.4.0)\n",
      "Requirement already satisfied: pyparsing>=2.3.1 in c:\\users\\larry\\anaconda3\\lib\\site-packages (from matplotlib>=2->plotchecker) (3.1.2)\n",
      "Requirement already satisfied: python-dateutil>=2.7 in c:\\users\\larry\\anaconda3\\lib\\site-packages (from matplotlib>=2->plotchecker) (2.9.0.post0)\n"
     ]
    }
   ],
   "source": [
    "# this is needed for the plotting questions, ideally.\n",
    "# if it fails, you may need to run jupyter\n",
    "# with administrator privileges\n",
    "# if *that* fails, try, in the cell below,\n",
    "# changing autograder_term1week7 to \n",
    "# autograder_term1week7_alt\n",
    "import sys\n",
    "!{sys.executable} -m pip install plotchecker"
   ]
  },
  {
   "cell_type": "code",
   "execution_count": 2,
   "metadata": {},
   "outputs": [
    {
     "name": "stdout",
     "output_type": "stream",
     "text": [
      "Autograder loaded successfully!\n",
      "Remember to always restart and run all from the Kernel menu before submitting!\n"
     ]
    }
   ],
   "source": [
    "from autograder_term1week7 import *\n",
    "_globals = globals()\n",
    "import matplotlib.pyplot as plt\n",
    "%matplotlib inline"
   ]
  },
  {
   "cell_type": "markdown",
   "metadata": {
    "deletable": false,
    "editable": false,
    "nbgrader": {
     "cell_type": "markdown",
     "checksum": "1108a8b4faf59670d4cbedbfbe029fd9",
     "grade": false,
     "grade_id": "cell-3b566c18fa24e5fd",
     "locked": true,
     "schema_version": 3,
     "solution": false,
     "task": false
    }
   },
   "source": [
    "# <center> Introduction to Mathematical Computing </center>\n",
    "### <center> Phil Ramsden </center>\n",
    "\n",
    "# <center> Worksheet 3: Loops using for and while </center>\n",
    "\n",
    "**NOTE:** When answering a question, remember to remove the `raise NotImplementedError()` line.\n",
    "\n",
    "Don't forget: online Python documentation is at <a href='https://docs.python.org'>docs.python.org</a> and <a href='https://www.w3schools.com/python/'>www.w3schools.com/python/</a>."
   ]
  },
  {
   "cell_type": "markdown",
   "metadata": {
    "deletable": false,
    "editable": false,
    "nbgrader": {
     "cell_type": "markdown",
     "checksum": "e93e6ca9b746844497ac437cfec77091",
     "grade": false,
     "grade_id": "cell-484a33bd960cd13f",
     "locked": true,
     "schema_version": 3,
     "solution": false,
     "task": false
    }
   },
   "source": [
    "## Question 1: \n",
    "\n",
    "This question is on `for` loops.\n",
    "\n",
    "(a) Use a `for` loop to calculate, and print, the value of $\\displaystyle{\\frac{1}{n+1}\\,\\cos\\left(\\frac{n\\,\\pi}{4}\\right)}$ for $n=0, 1, 2, \\dots 16$.\n"
   ]
  },
  {
   "cell_type": "code",
   "execution_count": 3,
   "metadata": {
    "deletable": false,
    "nbgrader": {
     "cell_type": "code",
     "checksum": "174e1be0fcc2d233e020c0bcfd96612e",
     "grade": false,
     "grade_id": "cell-397f7dbd5d5a1a3e",
     "locked": false,
     "schema_version": 3,
     "solution": true,
     "task": false
    }
   },
   "outputs": [
    {
     "name": "stdout",
     "output_type": "stream",
     "text": [
      "0.058823529411764705\n"
     ]
    }
   ],
   "source": [
    "# import necessary function and constant\n",
    "from math import cos, pi\n",
    "\n",
    "# loop\n",
    "for n in range(17):\n",
    "    n = (1/(n+1))*cos((n*pi)/4)\n",
    "print(n)"
   ]
  },
  {
   "cell_type": "markdown",
   "metadata": {
    "deletable": false,
    "editable": false,
    "nbgrader": {
     "cell_type": "markdown",
     "checksum": "c1b16d7fa36d25d840e9ca0d5164372f",
     "grade": false,
     "grade_id": "cell-06ac101d9bf7f7ba",
     "locked": true,
     "schema_version": 3,
     "solution": false,
     "task": false
    }
   },
   "source": [
    "(b) An approximation to $\\sqrt{5.0}$ can be calculated by iterating the function\n",
    "\n",
    "$$x \\mapsto \\frac{x+5.0}{x+1.0},$$\n",
    "\n",
    "starting with $x = 5.0$.\n",
    "\n",
    "Perform this iteration 10 times"
   ]
  },
  {
   "cell_type": "code",
   "execution_count": 10,
   "metadata": {
    "deletable": false,
    "nbgrader": {
     "cell_type": "code",
     "checksum": "a145d6a9aa41597771cb53bc3852b919",
     "grade": false,
     "grade_id": "cell-4b190200bbfc8ac4",
     "locked": false,
     "schema_version": 3,
     "solution": true,
     "task": false
    }
   },
   "outputs": [
    {
     "name": "stdout",
     "output_type": "stream",
     "text": [
      "2.2361809045226133\n"
     ]
    }
   ],
   "source": [
    "# initialize x\n",
    "x = 5.0\n",
    "\n",
    "# loop\n",
    "for n in range(10):\n",
    "    x = (x+5.0)/(x+1.0)\n",
    "# print final value of x\n",
    "print(x)"
   ]
  },
  {
   "cell_type": "code",
   "execution_count": 7,
   "metadata": {
    "deletable": false,
    "editable": false,
    "nbgrader": {
     "cell_type": "code",
     "checksum": "3e0552663eaa15162fee320b32b03844",
     "grade": true,
     "grade_id": "cell-1882fdb310c51b0c",
     "locked": true,
     "points": 1,
     "schema_version": 3,
     "solution": false,
     "task": false
    }
   },
   "outputs": [
    {
     "name": "stdout",
     "output_type": "stream",
     "text": [
      "Question 1 (b) passed!!\n"
     ]
    },
    {
     "data": {
      "text/plain": [
       "1"
      ]
     },
     "execution_count": 7,
     "metadata": {},
     "output_type": "execute_result"
    }
   ],
   "source": [
    "# 1 Mark\n",
    "question1_b(x)"
   ]
  },
  {
   "cell_type": "markdown",
   "metadata": {
    "deletable": false,
    "editable": false,
    "nbgrader": {
     "cell_type": "markdown",
     "checksum": "32a76e1fdaef0bbaab10b3bf8ac41148",
     "grade": false,
     "grade_id": "cell-60da0b3553cdfd60",
     "locked": true,
     "schema_version": 3,
     "solution": false,
     "task": false
    }
   },
   "source": [
    "(c) Use a <code>for</code> loop to calculate an approximation to the solution of the equation $x=e^{-x}$, using 10 iterations of the function $f(x) = e^{-x}$, starting with the value $x = 0.0$."
   ]
  },
  {
   "cell_type": "code",
   "execution_count": 108,
   "metadata": {
    "deletable": false,
    "nbgrader": {
     "cell_type": "code",
     "checksum": "db0ed972063f2ee4419ef7f794851856",
     "grade": false,
     "grade_id": "cell-f5b064dadbcd72b7",
     "locked": false,
     "schema_version": 3,
     "solution": true,
     "task": false
    }
   },
   "outputs": [
    {
     "name": "stdout",
     "output_type": "stream",
     "text": [
      "0.5648793473910495\n"
     ]
    }
   ],
   "source": [
    "# import necessary function\n",
    "from math import exp\n",
    "\n",
    "# initialize the variable x\n",
    "x = 0.0\n",
    "\n",
    "for i in range(10):\n",
    "    x = exp(-x)\n",
    "\n",
    "print(x)"
   ]
  },
  {
   "cell_type": "code",
   "execution_count": 11,
   "metadata": {
    "deletable": false,
    "editable": false,
    "nbgrader": {
     "cell_type": "code",
     "checksum": "cae27c0f069ee282bb6654b42fd99f89",
     "grade": true,
     "grade_id": "cell-fe9f9ca474ad5639",
     "locked": true,
     "points": 1,
     "schema_version": 3,
     "solution": false,
     "task": false
    }
   },
   "outputs": [
    {
     "name": "stdout",
     "output_type": "stream",
     "text": [
      "Question 1 (c) passed!!\n"
     ]
    },
    {
     "data": {
      "text/plain": [
       "1"
      ]
     },
     "execution_count": 11,
     "metadata": {},
     "output_type": "execute_result"
    }
   ],
   "source": [
    "# 1 Mark\n",
    "question1_c(x)"
   ]
  },
  {
   "cell_type": "markdown",
   "metadata": {
    "deletable": false,
    "editable": false,
    "nbgrader": {
     "cell_type": "markdown",
     "checksum": "a658d4ccdc005a4abe802eea6e0b75ae",
     "grade": false,
     "grade_id": "cell-b85c636262fce220",
     "locked": true,
     "schema_version": 3,
     "solution": false,
     "task": false
    }
   },
   "source": [
    "(d) Use a <code>for</code> loop to calculate $100!$ (that is, one hundred factorial). Make sure its value is passed to the variable <code>fac100</code>."
   ]
  },
  {
   "cell_type": "code",
   "execution_count": 13,
   "metadata": {
    "deletable": false,
    "nbgrader": {
     "cell_type": "code",
     "checksum": "11112924193e40dfd4a46c8d44e1bc81",
     "grade": false,
     "grade_id": "cell-bc06ac8287a40c87",
     "locked": false,
     "schema_version": 3,
     "solution": true,
     "task": false
    }
   },
   "outputs": [
    {
     "name": "stdout",
     "output_type": "stream",
     "text": [
      "93326215443944152681699238856266700490715968264381621468592963895217599993229915608941463976156518286253697920827223758251185210916864000000000000000000000000\n"
     ]
    }
   ],
   "source": [
    "fac100 = 1\n",
    "for i in range(100):\n",
    "    fac100 = fac100*(i+1)\n",
    "# print the final value of fac100\n",
    "print(fac100)"
   ]
  },
  {
   "cell_type": "code",
   "execution_count": 14,
   "metadata": {
    "deletable": false,
    "editable": false,
    "nbgrader": {
     "cell_type": "code",
     "checksum": "f7ac705017b36f16777bae97dedde8ae",
     "grade": true,
     "grade_id": "cell-d9323fe686519cbe",
     "locked": true,
     "points": 1,
     "schema_version": 3,
     "solution": false,
     "task": false
    }
   },
   "outputs": [
    {
     "name": "stdout",
     "output_type": "stream",
     "text": [
      "Question 1 (d) passed!!\n"
     ]
    },
    {
     "data": {
      "text/plain": [
       "1"
      ]
     },
     "execution_count": 14,
     "metadata": {},
     "output_type": "execute_result"
    }
   ],
   "source": [
    "# 1 Mark\n",
    "question1_d(fac100)"
   ]
  },
  {
   "cell_type": "markdown",
   "metadata": {
    "deletable": false,
    "editable": false,
    "nbgrader": {
     "cell_type": "markdown",
     "checksum": "8a0a645d2cc7e242152c270894278893",
     "grade": false,
     "grade_id": "cell-b2ad90950e4c7a0f",
     "locked": true,
     "schema_version": 3,
     "solution": false,
     "task": false
    }
   },
   "source": [
    "(e) Using a `for` loop, calculate the 20th Fibonacci number $f_{20}$, given that $f_1 = f_2 = 1$."
   ]
  },
  {
   "cell_type": "code",
   "execution_count": 16,
   "metadata": {
    "deletable": false,
    "nbgrader": {
     "cell_type": "code",
     "checksum": "5dae1d5c31a7efdb4cb3cc64689b1bfb",
     "grade": false,
     "grade_id": "cell-da7e3ee1f7ca3abb",
     "locked": false,
     "schema_version": 3,
     "solution": true,
     "task": false
    }
   },
   "outputs": [
    {
     "name": "stdout",
     "output_type": "stream",
     "text": [
      "2 3\n",
      "5 8\n",
      "13 21\n",
      "34 55\n",
      "89 144\n",
      "233 377\n",
      "610 987\n",
      "1597 2584\n",
      "4181 6765\n",
      "6765\n"
     ]
    }
   ],
   "source": [
    "# initialize a and b\n",
    "a, b= 1, 1\n",
    "\n",
    "for i in range(9):\n",
    "    a = b + a\n",
    "    b = a + b\n",
    "    \n",
    "    print(a,b)\n",
    "print(b)"
   ]
  },
  {
   "cell_type": "code",
   "execution_count": 17,
   "metadata": {
    "deletable": false,
    "editable": false,
    "nbgrader": {
     "cell_type": "code",
     "checksum": "aa5d9746974c8205885732909370bd94",
     "grade": true,
     "grade_id": "cell-ce0fb41c8d0bdd39",
     "locked": true,
     "points": 1,
     "schema_version": 3,
     "solution": false,
     "task": false
    }
   },
   "outputs": [
    {
     "name": "stdout",
     "output_type": "stream",
     "text": [
      "Question 1 (e) passed!!\n"
     ]
    },
    {
     "data": {
      "text/plain": [
       "1"
      ]
     },
     "execution_count": 17,
     "metadata": {},
     "output_type": "execute_result"
    }
   ],
   "source": [
    "# 1 Mark\n",
    "question1_e(b)"
   ]
  },
  {
   "cell_type": "markdown",
   "metadata": {
    "deletable": false,
    "editable": false,
    "nbgrader": {
     "cell_type": "markdown",
     "checksum": "de054672826800859804fe26c50f0ee5",
     "grade": false,
     "grade_id": "cell-ea17093bd8d2cbda",
     "locked": true,
     "schema_version": 3,
     "solution": false,
     "task": false
    }
   },
   "source": [
    "(f) Compare the speed of convergence to $\\pi$ of the following three summations:\n",
    "\n",
    "(i) $\\displaystyle{\\pi = \\sum_{n=0}^\\infty \\frac{4\\times(-1)^n}{(2\\,n+1)};}$\n",
    "\n",
    "(ii) $\\displaystyle{\\pi = \\sum_{n=0}^\\infty \\frac{2^{n+1}\\,(n!)^2}{(2\\,n+1)!};}$\n",
    "\n",
    "(iii) $\\displaystyle{\\pi = \\sum_{n=0}^\\infty \\frac{\\sqrt{12}\\,(-1)^n}{3^n\\,(2\\,n+1)}.}$\n",
    "\n",
    "Do this by calculating, in each case, the sum of the terms from $n=0$ to $n=20$, and comparing it with $\\pi$."
   ]
  },
  {
   "cell_type": "code",
   "execution_count": 19,
   "metadata": {
    "deletable": false,
    "nbgrader": {
     "cell_type": "code",
     "checksum": "7b06c49b914fcee20b838a0e01805556",
     "grade": false,
     "grade_id": "cell-06e07f19fa9f0b1b",
     "locked": false,
     "schema_version": 3,
     "solution": true,
     "task": false
    }
   },
   "outputs": [
    {
     "name": "stdout",
     "output_type": "stream",
     "text": [
      "[3.189184782277596, 3.1415919276751456, 3.1415926535714034]\n",
      "0.04759212868780294\n",
      "7.259146475036005e-07\n",
      "1.8389734179891093e-11\n"
     ]
    }
   ],
   "source": [
    "from math import pi, factorial, sqrt\n",
    "\n",
    "total1 = 0.0\n",
    "for i in range(21):\n",
    "    total1 = total1 + (4*(-1)**i)/(2*i+1)\n",
    "\n",
    "# summation (ii)\n",
    "total2 = 0.0\n",
    "for i in range(20):\n",
    "    total2 = total2 + ((2**(i+1))*(factorial(i)**2))/factorial((2*i)+1)\n",
    "total3 = 0.0\n",
    "# YOUR CODE HERE\n",
    "for i in range(20):\n",
    "    total3 = total3 + (sqrt(12)*(-1)**i)/((3**i)*(2*i+1))\n",
    "\n",
    "print([total1, total2, total3])\n",
    "\n",
    "print(abs(pi-total1))\n",
    "print(abs(pi-total2))\n",
    "print(abs(pi-total3))"
   ]
  },
  {
   "cell_type": "code",
   "execution_count": 20,
   "metadata": {
    "deletable": false,
    "editable": false,
    "nbgrader": {
     "cell_type": "code",
     "checksum": "64454cbd25bbbeecb9b42820430414d6",
     "grade": true,
     "grade_id": "cell-58ed837dd2947064",
     "locked": true,
     "points": 3,
     "schema_version": 3,
     "solution": false,
     "task": false
    }
   },
   "outputs": [
    {
     "name": "stdout",
     "output_type": "stream",
     "text": [
      "Total 1 is correct!!\n",
      "Total 2 is correct!!\n",
      "Total 3 is correct!!\n",
      "3 out of 3 tests passed\n"
     ]
    },
    {
     "data": {
      "text/plain": [
       "3"
      ]
     },
     "execution_count": 20,
     "metadata": {},
     "output_type": "execute_result"
    }
   ],
   "source": [
    "# 3 Marks\n",
    "question1_f(total1, total2, total3)"
   ]
  },
  {
   "cell_type": "markdown",
   "metadata": {
    "deletable": false,
    "editable": false,
    "nbgrader": {
     "cell_type": "markdown",
     "checksum": "aa5edb48a53228008a7ecdd9d8f905dc",
     "grade": false,
     "grade_id": "cell-d74a230cd0c48639",
     "locked": true,
     "schema_version": 3,
     "solution": false,
     "task": false
    }
   },
   "source": [
    "## Question 2\n",
    "\n",
    "This question is on `for` loops that generate <b>lists</b> using `append`.\n",
    "\n",
    "(a) Use a `for` loop to generate a list consisting of the values of $\\displaystyle{\\frac{1}{n+1}\\,\\cos\\left(\\frac{n\\,\\pi}{4}\\right)}$ for $n=0, 1, 2, \\dots 16$.\n",
    "\n"
   ]
  },
  {
   "cell_type": "code",
   "execution_count": 118,
   "metadata": {
    "deletable": false,
    "nbgrader": {
     "cell_type": "code",
     "checksum": "8e683c999d3fc474874cf146f41bb3dc",
     "grade": false,
     "grade_id": "cell-633e60774eaf8627",
     "locked": false,
     "schema_version": 3,
     "solution": true,
     "task": false
    }
   },
   "outputs": [
    {
     "name": "stdout",
     "output_type": "stream",
     "text": [
      "[1.0, 0.3535533905932738, 2.041077998578922e-17, -0.17677669529663687, -0.2, -0.11785113019775795, -2.6242431410300424e-17, 0.08838834764831842, 0.1111111111111111, 0.07071067811865477, 2.783288179880348e-17, -0.05892556509887889, -0.07692307692307693, -0.050507627227610506, -2.857509198010491e-17, 0.04419417382415916, 0.058823529411764705]\n"
     ]
    }
   ],
   "source": [
    "# import necessary function and constant\n",
    "from math import cos, pi\n",
    "\n",
    "# initialize\n",
    "sequence2a = []\n",
    "\n",
    "# loop\n",
    "for n in range(17):\n",
    "    n = (1/(n+1))*cos((n*pi)/4)\n",
    "    sequence2a.append(n)\n",
    "\n",
    "\n",
    "# print final value\n",
    "print(sequence2a)\n",
    "\n"
   ]
  },
  {
   "cell_type": "code",
   "execution_count": null,
   "metadata": {},
   "outputs": [],
   "source": []
  },
  {
   "cell_type": "code",
   "execution_count": 16,
   "metadata": {
    "deletable": false,
    "editable": false,
    "nbgrader": {
     "cell_type": "code",
     "checksum": "eb5414abc520030cef67b7b61b36e1b1",
     "grade": true,
     "grade_id": "cell-b3398c27ae4f08f4",
     "locked": true,
     "points": 1,
     "schema_version": 3,
     "solution": false,
     "task": false
    }
   },
   "outputs": [
    {
     "name": "stdout",
     "output_type": "stream",
     "text": [
      "Question 2(a) is correct!!\n"
     ]
    },
    {
     "data": {
      "text/plain": [
       "1"
      ]
     },
     "execution_count": 16,
     "metadata": {},
     "output_type": "execute_result"
    }
   ],
   "source": [
    "# 1 Mark\n",
    "question2a(sequence2a)"
   ]
  },
  {
   "cell_type": "markdown",
   "metadata": {
    "deletable": false,
    "editable": false,
    "nbgrader": {
     "cell_type": "markdown",
     "checksum": "ccda8cf863f880bfd755fd88db5d37f8",
     "grade": false,
     "grade_id": "cell-77db5e2b4628b884",
     "locked": true,
     "schema_version": 3,
     "solution": false,
     "task": false
    }
   },
   "source": [
    "## Then create a point plot of these values; the horizontal coordinates should consist of the values 0, 1, 2, ..., 16, and the vertical coordinates should consist of `sequence2a`. Documentation of the `plot` function is available at <a href='https://matplotlib.org/'>matplotlib.org</a>."
   ]
  },
  {
   "cell_type": "code",
   "execution_count": 122,
   "metadata": {
    "deletable": false,
    "nbgrader": {
     "cell_type": "code",
     "checksum": "30dc6825a113bf82cda2b50136fe3fee",
     "grade": false,
     "grade_id": "cell-3d82ece87712bc05",
     "locked": false,
     "schema_version": 3,
     "solution": true,
     "task": false
    }
   },
   "outputs": [
    {
     "data": {
      "image/png": "[encoded data removed]",
      "text/plain": [
       "<Figure size 640x480 with 1 Axes>"
      ]
     },
     "metadata": {},
     "output_type": "display_data"
    }
   ],
   "source": [
    "# plot\n",
    "%matplotlib inline\n",
    "import matplotlib.pyplot as plt\n",
    "fig, ax = plt.subplots()\n",
    "#for i in range(17):\n",
    "#    ax.plot(i,sequence2a[i],'x',markeredgewidth=2)+-\n",
    "ax.plot(range(17), sequence2a, '.')\n",
    "plt.show()"
   ]
  },
  {
   "cell_type": "code",
   "execution_count": 30,
   "metadata": {
    "deletable": false,
    "editable": false,
    "nbgrader": {
     "cell_type": "code",
     "checksum": "1793c69c7c3c99c23447b8778a2cb31d",
     "grade": true,
     "grade_id": "cell-0657f9643e6954c2",
     "locked": true,
     "points": 1,
     "schema_version": 3,
     "solution": false,
     "task": false
    }
   },
   "outputs": [
    {
     "name": "stdout",
     "output_type": "stream",
     "text": [
      "Incorrect horizontal coordinates\n",
      "Incorrect vertical coordinates\n",
      "This does not seem to be a point plot\n",
      "Plot incorrect!!\n"
     ]
    },
    {
     "data": {
      "text/plain": [
       "0"
      ]
     },
     "execution_count": 30,
     "metadata": {},
     "output_type": "execute_result"
    }
   ],
   "source": [
    "# 1 Mark\n",
    "_globals = globals()\n",
    "question2a_plot(_globals)"
   ]
  },
  {
   "cell_type": "markdown",
   "metadata": {
    "deletable": false,
    "editable": false,
    "nbgrader": {
     "cell_type": "markdown",
     "checksum": "2d8ba5ae8621c06d7ef657cb1de6ca33",
     "grade": false,
     "grade_id": "cell-6627ff2c1596406e",
     "locked": true,
     "schema_version": 3,
     "solution": false,
     "task": false
    }
   },
   "source": [
    "(b) Use a `for` loop to generate a list consisting of the iterates $x_0, x_1, x_2, \\dots x_{10}$ of the map\n",
    "\n",
    "$$x \\mapsto \\frac{x+5.0}{x+1.0},$$\n",
    "\n",
    "starting with $x = x_0 = 5.0$.\n",
    "\n",
    "Then create a line plot of these values."
   ]
  },
  {
   "cell_type": "code",
   "execution_count": 38,
   "metadata": {
    "deletable": false,
    "nbgrader": {
     "cell_type": "code",
     "checksum": "d165104d343e75f6ccadf4b09628fbb2",
     "grade": false,
     "grade_id": "cell-929a66cfbb8dfcf2",
     "locked": false,
     "schema_version": 3,
     "solution": true,
     "task": false
    }
   },
   "outputs": [
    {
     "name": "stdout",
     "output_type": "stream",
     "text": [
      "[5.0, 1.6666666666666667, 2.5, 2.142857142857143, 2.2727272727272725, 2.2222222222222223, 2.2413793103448274, 2.2340425531914896, 2.236842105263158, 2.235772357723577, 2.2361809045226133]\n"
     ]
    }
   ],
   "source": [
    "# initialize x and sequence\n",
    "x = 5.0\n",
    "sequence2b = [x]\n",
    "\n",
    "for i in range(10):\n",
    "    x = (x+5.0)/(x+1.0)\n",
    "    sequence2b.append(x)\n",
    "    \n",
    "# print final sequence\n",
    "print(sequence2b)\n"
   ]
  },
  {
   "cell_type": "code",
   "execution_count": 40,
   "metadata": {
    "deletable": false,
    "editable": false,
    "nbgrader": {
     "cell_type": "code",
     "checksum": "c4f81f49661c9fe20d2226e6688fef48",
     "grade": true,
     "grade_id": "cell-e968ecefe07b5686",
     "locked": true,
     "points": 1,
     "schema_version": 3,
     "solution": false,
     "task": false
    }
   },
   "outputs": [
    {
     "name": "stdout",
     "output_type": "stream",
     "text": [
      "Question 2(b) is correct!!\n"
     ]
    },
    {
     "data": {
      "text/plain": [
       "1"
      ]
     },
     "execution_count": 40,
     "metadata": {},
     "output_type": "execute_result"
    }
   ],
   "source": [
    "# 1 Mark\n",
    "question2b(sequence2b)"
   ]
  },
  {
   "cell_type": "code",
   "execution_count": 48,
   "metadata": {
    "deletable": false,
    "nbgrader": {
     "cell_type": "code",
     "checksum": "df59f3d02de93b1546d87a15a803153d",
     "grade": false,
     "grade_id": "cell-37b6f3a5afa51322",
     "locked": false,
     "schema_version": 3,
     "solution": true,
     "task": false
    }
   },
   "outputs": [
    {
     "data": {
      "image/png": "[encoded data removed]",
      "text/plain": [
       "<Figure size 640x480 with 1 Axes>"
      ]
     },
     "metadata": {},
     "output_type": "display_data"
    },
    {
     "data": {
      "image/png": "[encoded data removed]",
      "text/plain": [
       "<Figure size 640x480 with 1 Axes>"
      ]
     },
     "metadata": {},
     "output_type": "display_data"
    },
    {
     "data": {
      "image/png": "[encoded data removed]",
      "text/plain": [
       "<Figure size 640x480 with 1 Axes>"
      ]
     },
     "metadata": {},
     "output_type": "display_data"
    },
    {
     "data": {
      "image/png": "[encoded data removed]",
      "text/plain": [
       "<Figure size 640x480 with 1 Axes>"
      ]
     },
     "metadata": {},
     "output_type": "display_data"
    },
    {
     "data": {
      "image/png": "[encoded data removed]",
      "text/plain": [
       "<Figure size 640x480 with 1 Axes>"
      ]
     },
     "metadata": {},
     "output_type": "display_data"
    }
   ],
   "source": [
    "# plot\n",
    "fig, ax = plt.subplots()\n",
    "\n",
    "for i in range(len(sequence2b)):\n",
    "    ax.plot(i,sequence2b[i],'x',markeredgewidth=2)\n",
    "plt.show()\n"
   ]
  },
  {
   "cell_type": "code",
   "execution_count": 46,
   "metadata": {
    "deletable": false,
    "editable": false,
    "nbgrader": {
     "cell_type": "code",
     "checksum": "5336d09ed74a852b9b98df613cc80b52",
     "grade": true,
     "grade_id": "cell-e6c4e8e0822c1e1c",
     "locked": true,
     "points": 1,
     "schema_version": 3,
     "solution": false,
     "task": false
    }
   },
   "outputs": [
    {
     "name": "stdout",
     "output_type": "stream",
     "text": [
      "Incorrect horizontal coordinates\n",
      "Incorrect vertical coordinates\n",
      "This does not seem to be a line plot\n",
      "Plot incorrect!!\n"
     ]
    },
    {
     "data": {
      "text/plain": [
       "0"
      ]
     },
     "execution_count": 46,
     "metadata": {},
     "output_type": "execute_result"
    }
   ],
   "source": [
    "# 1 Mark\n",
    "_globals = globals()\n",
    "question2b_plot(_globals)"
   ]
  },
  {
   "cell_type": "markdown",
   "metadata": {
    "deletable": false,
    "editable": false,
    "nbgrader": {
     "cell_type": "markdown",
     "checksum": "036881d58ab7da44c277f8c5f754df4e",
     "grade": false,
     "grade_id": "cell-86e8cecc1e46b6ee",
     "locked": true,
     "schema_version": 3,
     "solution": false,
     "task": false
    }
   },
   "source": [
    "(c) Use a <code>for</code> loop, together with the <code>append</code> method, to create a <b>list</b> consisting of $0.0$, and then iterates 0 to 10 of $e^{-x}$ starting at $x=0.0$. Your list should be of length 11, and begin\n",
    "\n",
    "<code>[0.0, 1.0, 0.36787944117144233... ]</code>\n",
    "\n",
    "(that is, $[0.0, \\exp(-0.0), \\exp(-\\exp(-0.0)), \\dots]$).\n",
    "\n",
    "Assign your list to the variable <code>xlist</code>."
   ]
  },
  {
   "cell_type": "code",
   "execution_count": 50,
   "metadata": {
    "deletable": false,
    "nbgrader": {
     "cell_type": "code",
     "checksum": "4da0c3ec9a95d307b862a258ff9bc113",
     "grade": false,
     "grade_id": "cell-169e392bdc2d786e",
     "locked": false,
     "schema_version": 3,
     "solution": true,
     "task": false
    }
   },
   "outputs": [
    {
     "name": "stdout",
     "output_type": "stream",
     "text": [
      "[0.0, 1.0, 0.36787944117144233, 0.6922006275553464, 0.5004735005636368, 0.6062435350855974, 0.545395785975027, 0.5796123355033789, 0.5601154613610891, 0.571143115080177, 0.5648793473910495]\n"
     ]
    }
   ],
   "source": [
    "# import necessary function\n",
    "from math import exp\n",
    "\n",
    "# initialize x and sequence2c\n",
    "x = 0.0\n",
    "sequence2c = [x]\n",
    "\n",
    "for i in range(10):\n",
    "    x = exp(-x)\n",
    "    sequence2c.append(x)\n",
    "\n",
    "\n",
    "\n",
    "\n",
    "\n",
    "\n",
    "# print final value of xlist\n",
    "print(sequence2c)"
   ]
  },
  {
   "cell_type": "code",
   "execution_count": 52,
   "metadata": {
    "deletable": false,
    "editable": false,
    "nbgrader": {
     "cell_type": "code",
     "checksum": "a31d100b8afb9a940f258aea189803dc",
     "grade": true,
     "grade_id": "cell-714fa188e52ae573",
     "locked": true,
     "points": 1,
     "schema_version": 3,
     "solution": false,
     "task": false
    }
   },
   "outputs": [
    {
     "name": "stdout",
     "output_type": "stream",
     "text": [
      "Question 2(c) is correct!!\n"
     ]
    },
    {
     "data": {
      "text/plain": [
       "1"
      ]
     },
     "execution_count": 52,
     "metadata": {},
     "output_type": "execute_result"
    }
   ],
   "source": [
    "# 1 Mark\n",
    "question2c(sequence2c)"
   ]
  },
  {
   "cell_type": "markdown",
   "metadata": {
    "deletable": false,
    "editable": false,
    "nbgrader": {
     "cell_type": "markdown",
     "checksum": "b8ef5141e6ea2b0e4823e96a07638880",
     "grade": false,
     "grade_id": "cell-61e461321c255c8a",
     "locked": true,
     "schema_version": 3,
     "solution": false,
     "task": false
    }
   },
   "source": [
    "(d) Use a <code>for</code> loop to calculate the first fifty terms of the Fibonacci sequence, as a list of integers. Assign your list (which should be of length 50, and begin <code>[1, 1, 2, 3, 5, ...]</code>), to the variable <code>fiblist</code>."
   ]
  },
  {
   "cell_type": "code",
   "execution_count": null,
   "metadata": {
    "deletable": false,
    "nbgrader": {
     "cell_type": "code",
     "checksum": "7cddac59798bd3f532816ff88626e8c1",
     "grade": false,
     "grade_id": "cell-55125f33ac52a766",
     "locked": false,
     "schema_version": 3,
     "solution": true,
     "task": false
    }
   },
   "outputs": [],
   "source": [
    "# initialize a, b and fiblist\n",
    "a, b = 1, 1\n",
    "fiblist = [a, b]\n",
    "\n",
    "for i in range(24):\n",
    "    a = a + b\n",
    "    b = a + b\n",
    "    fiblist.append(a)\n",
    "    fiblist.append(b)\n",
    "# print final value of sequence2d\n",
    "print(fiblist)"
   ]
  },
  {
   "cell_type": "code",
   "execution_count": null,
   "metadata": {
    "deletable": false,
    "editable": false,
    "nbgrader": {
     "cell_type": "code",
     "checksum": "2a7c1f89a2d0ae05f1de80853b62940f",
     "grade": true,
     "grade_id": "cell-60e341ab568bc66d",
     "locked": true,
     "points": 1,
     "schema_version": 3,
     "solution": false,
     "task": false
    }
   },
   "outputs": [],
   "source": [
    "# 1 Mark\n",
    "question2d(fiblist)"
   ]
  },
  {
   "cell_type": "markdown",
   "metadata": {
    "deletable": false,
    "editable": false,
    "nbgrader": {
     "cell_type": "markdown",
     "checksum": "152ef6e93ca27738e26684fe21c39fb8",
     "grade": false,
     "grade_id": "cell-cf9146ad1e8a7d97",
     "locked": true,
     "schema_version": 3,
     "solution": false,
     "task": false
    }
   },
   "source": [
    "(e) Compare the speed of convergence to $\\pi$ of the following three summations:\n",
    "\n",
    "(i) $\\displaystyle{\\pi = \\sum_{n=0}^\\infty \\frac{4\\times(-1)^n}{(2\\,n+1)};}$\n",
    "\n",
    "(ii) $\\displaystyle{\\pi = \\sum_{n=0}^\\infty \\frac{2^{n+1}\\,(n!)^2}{(2\\,n+1)!};}$\n",
    "\n",
    "(iii) $\\displaystyle{\\pi = \\sum_{n=0}^\\infty \\frac{\\sqrt{12}\\,(-1)^n}{3^n\\,(2\\,n+1)}.}$\n",
    "\n",
    "Do this by calculating, in each case, the partial sums $S_0, S_1, S_2, \\dots S_{20}$, and creating line plots on the same pair of axes."
   ]
  },
  {
   "cell_type": "code",
   "execution_count": 102,
   "metadata": {
    "deletable": false,
    "nbgrader": {
     "cell_type": "code",
     "checksum": "1d0fff45c9ff5e4a220b9a17473b086c",
     "grade": false,
     "grade_id": "cell-7af13bff35bdb671",
     "locked": false,
     "schema_version": 3,
     "solution": true,
     "task": false
    }
   },
   "outputs": [],
   "source": [
    "from math import pi, factorial, sqrt\n",
    "\n",
    "# summation (i)\n",
    "\n",
    "\n",
    "total1 = 0.0\n",
    "list1 = []\n",
    "for i in range(20):\n",
    "\n",
    "    list1.append(total1)\n",
    "    total1 = total1 + (4*(-1)**i)/(2*i+1)\n",
    "    "
   ]
  },
  {
   "cell_type": "code",
   "execution_count": 104,
   "metadata": {
    "deletable": false,
    "nbgrader": {
     "cell_type": "code",
     "checksum": "27b1281fa7fc8f0958258d2476a31d49",
     "grade": false,
     "grade_id": "cell-6983e7b952bad5e6",
     "locked": false,
     "schema_version": 3,
     "solution": true,
     "task": false
    }
   },
   "outputs": [],
   "source": [
    "# summation (ii)\n",
    "total2 = 0.0\n",
    "list2 = []\n",
    "for i in range(20):\n",
    "    list2.append(total2)\n",
    "    total2 = total2 + ((2**(i+1))*(factorial(i)**2))/factorial((2*i)+1)\n"
   ]
  },
  {
   "cell_type": "code",
   "execution_count": 106,
   "metadata": {
    "deletable": false,
    "nbgrader": {
     "cell_type": "code",
     "checksum": "6454b5a7a6353a822be2d5310931acdb",
     "grade": false,
     "grade_id": "cell-c745c3b798aa34e4",
     "locked": false,
     "schema_version": 3,
     "solution": true,
     "task": false
    }
   },
   "outputs": [],
   "source": [
    "# summation (iii)\n",
    "total3 = 0.0\n",
    "list3 = []\n",
    "for n in range(20):\n",
    "    list3.append(total3)\n",
    "    total3 = total3 + (sqrt(12)*(-1)**i)/((3**i)*(2*i+1))\n"
   ]
  },
  {
   "cell_type": "code",
   "execution_count": 108,
   "metadata": {
    "deletable": false,
    "editable": false,
    "nbgrader": {
     "cell_type": "code",
     "checksum": "d606cdde564aa53cccac47a9b95ed31d",
     "grade": false,
     "grade_id": "cell-c24e37d86798c7a0",
     "locked": true,
     "schema_version": 3,
     "solution": false,
     "task": false
    }
   },
   "outputs": [
    {
     "name": "stdout",
     "output_type": "stream",
     "text": [
      "[0.0, 4.0, 2.666666666666667, 3.466666666666667, 2.8952380952380956, 3.3396825396825403, 2.9760461760461765, 3.2837384837384844, 3.017071817071818, 3.2523659347188767, 3.0418396189294032, 3.232315809405594, 3.058402765927333, 3.2184027659273333, 3.0702546177791854, 3.208185652261944, 3.079153394197428, 3.200365515409549, 3.0860798011238346, 3.1941879092319425]\n",
      "[0.0, 2.0, 2.6666666666666665, 2.933333333333333, 3.0476190476190474, 3.098412698412698, 3.121500721500721, 3.132156732156732, 3.1371295371295367, 3.1394696806461506, 3.140578169680336, 3.141106021601377, 3.1413584725201353, 3.1414796489611394, 3.1415379931734746, 3.1415661593449467, 3.1415797881375944, 3.1415863960370602, 3.141589605588229, 3.1415911669915006]\n",
      "[0.0, -7.642266465749182e-11, -1.5284532931498364e-10, -2.2926799397247545e-10, -3.0569065862996727e-10, -3.821133232874591e-10, -4.585359879449509e-10, -5.349586526024427e-10, -6.113813172599345e-10, -6.878039819174264e-10, -7.642266465749182e-10, -8.4064931123241e-10, -9.170719758899018e-10, -9.934946405473936e-10, -1.0699173052048855e-09, -1.1463399698623773e-09, -1.222762634519869e-09, -1.299185299177361e-09, -1.3756079638348527e-09, -1.4520306284923445e-09]\n"
     ]
    }
   ],
   "source": [
    "print(list1)\n",
    "print(list2)\n",
    "print(list3)"
   ]
  },
  {
   "cell_type": "code",
   "execution_count": 110,
   "metadata": {
    "deletable": false,
    "editable": false,
    "nbgrader": {
     "cell_type": "code",
     "checksum": "d4cbde83900472cb5417e9db65ce409a",
     "grade": true,
     "grade_id": "cell-867901d8eb808ad7",
     "locked": true,
     "points": 1,
     "schema_version": 3,
     "solution": false,
     "task": false
    }
   },
   "outputs": [
    {
     "name": "stdout",
     "output_type": "stream",
     "text": [
      "Question 2(e-i) is incorrect!!\n"
     ]
    },
    {
     "data": {
      "text/plain": [
       "0"
      ]
     },
     "execution_count": 110,
     "metadata": {},
     "output_type": "execute_result"
    }
   ],
   "source": [
    "# 1 Mark\n",
    "question2e_i(list1)"
   ]
  },
  {
   "cell_type": "code",
   "execution_count": 112,
   "metadata": {
    "deletable": false,
    "editable": false,
    "nbgrader": {
     "cell_type": "code",
     "checksum": "16ecc9cc65161fb4b9ed4c60c5dd0861",
     "grade": true,
     "grade_id": "cell-b5cfb8eb74052efc",
     "locked": true,
     "points": 1,
     "schema_version": 3,
     "solution": false,
     "task": false
    }
   },
   "outputs": [
    {
     "name": "stdout",
     "output_type": "stream",
     "text": [
      "Question 2(e-ii) is incorrect!!\n"
     ]
    },
    {
     "data": {
      "text/plain": [
       "0"
      ]
     },
     "execution_count": 112,
     "metadata": {},
     "output_type": "execute_result"
    }
   ],
   "source": [
    "# 1 Mark\n",
    "question2e_ii(list2)"
   ]
  },
  {
   "cell_type": "code",
   "execution_count": 114,
   "metadata": {
    "deletable": false,
    "editable": false,
    "nbgrader": {
     "cell_type": "code",
     "checksum": "4d2c0c379a48c638628c520c1b0883cc",
     "grade": true,
     "grade_id": "cell-6f5c8de8a457d904",
     "locked": true,
     "points": 1,
     "schema_version": 3,
     "solution": false,
     "task": false
    }
   },
   "outputs": [
    {
     "name": "stdout",
     "output_type": "stream",
     "text": [
      "Question 2(e-iii) is incorrect!!\n"
     ]
    },
    {
     "data": {
      "text/plain": [
       "0"
      ]
     },
     "execution_count": 114,
     "metadata": {},
     "output_type": "execute_result"
    }
   ],
   "source": [
    "# 1 Mark\n",
    "question2e_iii(list3)"
   ]
  },
  {
   "cell_type": "code",
   "execution_count": 84,
   "metadata": {
    "deletable": false,
    "nbgrader": {
     "cell_type": "code",
     "checksum": "e67e3e8025d2693126516dea88027553",
     "grade": false,
     "grade_id": "cell-e878b912a2b44958",
     "locked": false,
     "schema_version": 3,
     "solution": true,
     "task": false
    }
   },
   "outputs": [
    {
     "ename": "NotImplementedError",
     "evalue": "",
     "output_type": "error",
     "traceback": [
      "\u001b[1;31m---------------------------------------------------------------------------\u001b[0m",
      "\u001b[1;31mNotImplementedError\u001b[0m                       Traceback (most recent call last)",
      "Cell \u001b[1;32mIn[84], line 4\u001b[0m\n\u001b[0;32m      2\u001b[0m fig, ax \u001b[38;5;241m=\u001b[39m plt\u001b[38;5;241m.\u001b[39msubplots()\n\u001b[0;32m      3\u001b[0m \u001b[38;5;66;03m# YOUR CODE HERE\u001b[39;00m\n\u001b[1;32m----> 4\u001b[0m \u001b[38;5;28;01mraise\u001b[39;00m \u001b[38;5;167;01mNotImplementedError\u001b[39;00m()\n",
      "\u001b[1;31mNotImplementedError\u001b[0m: "
     ]
    }
   ],
   "source": [
    "# plot\n",
    "fig, ax = plt.subplots()\n",
    "# YOUR CODE HERE\n",
    "raise NotImplementedError()"
   ]
  },
  {
   "cell_type": "code",
   "execution_count": null,
   "metadata": {
    "deletable": false,
    "editable": false,
    "nbgrader": {
     "cell_type": "code",
     "checksum": "2ddf918b3d34b5ba8f8d256537bd0261",
     "grade": true,
     "grade_id": "cell-b5d4a67110c8e0c7",
     "locked": true,
     "points": 1,
     "schema_version": 3,
     "solution": false,
     "task": false
    }
   },
   "outputs": [],
   "source": [
    "# 1 Mark\n",
    "_globals = globals()\n",
    "question2e_plot(_globals)"
   ]
  },
  {
   "cell_type": "markdown",
   "metadata": {
    "deletable": false,
    "editable": false,
    "nbgrader": {
     "cell_type": "markdown",
     "checksum": "afdf1bf3352c3ee131705befc646fc72",
     "grade": false,
     "grade_id": "cell-b995d0f95cae865a",
     "locked": true,
     "schema_version": 3,
     "solution": false,
     "task": false
    }
   },
   "source": [
    "## Question 3\n",
    "\n",
    "This question is on <code>while</code> loops.\n",
    "\n",
    "(a) An approximation to $\\sqrt{5.0}$ can be calculated by iterating the function\n",
    "\n",
    "$$x \\mapsto \\frac{x+5.0}{x+1.0},$$\n",
    "\n",
    "starting with $x = 5.0$.\n",
    "\n",
    "Write a <code>while</code> loop that performs this iteration, terminating when the absolute value of $x^2-5$ is no longer greater than $10^{-6}$."
   ]
  },
  {
   "cell_type": "code",
   "execution_count": null,
   "metadata": {
    "deletable": false,
    "nbgrader": {
     "cell_type": "code",
     "checksum": "692b39120a704a2eb8e65550d56e1ef8",
     "grade": false,
     "grade_id": "cell-23545e9044465f66",
     "locked": false,
     "schema_version": 3,
     "solution": true,
     "task": false
    }
   },
   "outputs": [],
   "source": [
    "# initialize x\n",
    "x = 5.0\n",
    "\n",
    "# while loop\n",
    "\n",
    "while abs(x**2 - 5.0) > 1e-6:\n",
    "    x = (x + 5.0)/(x+1.0)\n",
    "\n",
    "\n",
    "\n",
    "# print final value of x\n",
    "print(x)"
   ]
  },
  {
   "cell_type": "code",
   "execution_count": null,
   "metadata": {
    "deletable": false,
    "editable": false,
    "nbgrader": {
     "cell_type": "code",
     "checksum": "e8f6609149e949624e586ef3170dbc2e",
     "grade": true,
     "grade_id": "cell-d35e08bfc21db1dd",
     "locked": true,
     "points": 1,
     "schema_version": 3,
     "solution": false,
     "task": false
    }
   },
   "outputs": [],
   "source": [
    "# 1 Mark\n",
    "question3_a(x)"
   ]
  },
  {
   "cell_type": "markdown",
   "metadata": {
    "deletable": false,
    "editable": false,
    "nbgrader": {
     "cell_type": "markdown",
     "checksum": "d35bff12ea280eabdf05e6ad5f2e1d0e",
     "grade": false,
     "grade_id": "cell-db0cdb40e9232930",
     "locked": true,
     "schema_version": 3,
     "solution": false,
     "task": false
    }
   },
   "source": [
    "(b) Solve the equation $x = e^{-x}$ by repeating the iteration $x \\mapsto e^{-x}$ until <em>successive iterates</em> no longer differ by more than $10^{-6}$. Do this by maintaining two values of $x$, called <code>oldx</code> and <code>newx</code>, both of which get updated on each turn of the loop. The initial value of <code>oldx</code> should be 0.0."
   ]
  },
  {
   "cell_type": "code",
   "execution_count": null,
   "metadata": {
    "deletable": false,
    "nbgrader": {
     "cell_type": "code",
     "checksum": "d9a025b37345ff7a3c5ec4e376441c1a",
     "grade": false,
     "grade_id": "cell-d17699432e26c794",
     "locked": false,
     "schema_version": 3,
     "solution": true,
     "task": false
    }
   },
   "outputs": [],
   "source": [
    "from math import exp\n",
    "\n",
    "\n",
    "# initialize oldx and newx\n",
    "oldx = 0.0\n",
    "newx = exp(-oldx)\n",
    "\n",
    "# while loop\n",
    "while abs(oldx-newx) > 1e-6:#\n",
    "    oldx = newx\n",
    "    newx = exp(-oldx)\n",
    "\n",
    "# print final value of newx\n",
    "print(newx)"
   ]
  },
  {
   "cell_type": "code",
   "execution_count": null,
   "metadata": {
    "deletable": false,
    "editable": false,
    "nbgrader": {
     "cell_type": "code",
     "checksum": "dacf8267cea77900fc3f4178e215d43d",
     "grade": true,
     "grade_id": "cell-982775cf6416aa0f",
     "locked": true,
     "points": 1,
     "schema_version": 3,
     "solution": false,
     "task": false
    }
   },
   "outputs": [],
   "source": [
    "# 1 Mark\n",
    "question3_b(newx)"
   ]
  },
  {
   "cell_type": "markdown",
   "metadata": {
    "deletable": false,
    "editable": false,
    "nbgrader": {
     "cell_type": "markdown",
     "checksum": "cbe0d75f25c520db70757ee65c99dfc8",
     "grade": false,
     "grade_id": "cell-b5829b0e6b5a1736",
     "locked": true,
     "schema_version": 3,
     "solution": false,
     "task": false
    }
   },
   "source": [
    "(c) Write a version of your $\\sqrt{5.0}$ code that returns a list of all the iterates, including the initial value of $x$ (which should again be $5.0$). As before, iterate until the absolute value of $x^2-5$ is no longer greater than $10^{-6}$, appending to your list as you go. Make sure the value of this list is passed to the variable <code>sequence3c</code>."
   ]
  },
  {
   "cell_type": "code",
   "execution_count": 51,
   "metadata": {
    "deletable": false,
    "nbgrader": {
     "cell_type": "code",
     "checksum": "9df1961e587df72087a00566bf1edb08",
     "grade": false,
     "grade_id": "cell-03d90054d6cc03a0",
     "locked": false,
     "schema_version": 3,
     "solution": true,
     "task": false
    }
   },
   "outputs": [
    {
     "name": "stdout",
     "output_type": "stream",
     "text": [
      "[5.0, 1.6666666666666667, 2.5, 2.142857142857143, 2.2727272727272725, 2.2222222222222223, 2.2413793103448274, 2.2340425531914896, 2.236842105263158, 2.235772357723577, 2.2361809045226133, 2.2360248447204967, 2.236084452975048, 2.2360616844602608, 2.2360703812316713, 2.236067059356593, 2.236068328199384, 2.236067843544479]\n"
     ]
    }
   ],
   "source": [
    "from math import sqrt\n",
    "x = 5.0\n",
    "sequence3c = [5.0]\n",
    "while abs(x**2 - 5.0) > 1e-6:\n",
    "\n",
    "    x = (x + 5.0)/(x+1.0)\n",
    "    sequence3c.append(x)\n",
    "print(sequence3c)"
   ]
  },
  {
   "cell_type": "code",
   "execution_count": 53,
   "metadata": {
    "deletable": false,
    "editable": false,
    "nbgrader": {
     "cell_type": "code",
     "checksum": "44f690d0c3f861b6f006cd5734ef361c",
     "grade": true,
     "grade_id": "cell-6ecaf46c60a87807",
     "locked": true,
     "points": 1,
     "schema_version": 3,
     "solution": false,
     "task": false
    }
   },
   "outputs": [
    {
     "name": "stdout",
     "output_type": "stream",
     "text": [
      "Question 3(c) is correct!!\n"
     ]
    },
    {
     "data": {
      "text/plain": [
       "1"
      ]
     },
     "execution_count": 53,
     "metadata": {},
     "output_type": "execute_result"
    }
   ],
   "source": [
    "# 1 Mark\n",
    "question3_c(sequence3c)"
   ]
  },
  {
   "cell_type": "markdown",
   "metadata": {
    "deletable": false,
    "editable": false,
    "nbgrader": {
     "cell_type": "markdown",
     "checksum": "dad9b5cd9e23642880bf293650b1bbca",
     "grade": false,
     "grade_id": "cell-ff929e12fdd133d0",
     "locked": true,
     "schema_version": 3,
     "solution": false,
     "task": false
    }
   },
   "source": [
    "(d) Write a version of your $x = e^{-x}$ code that returns a list of all the iterates, including the initial values of <code>oldx</code> and <code>newx</code>; use the same initial values and <code>while</code> condition. Make sure the value of the iterate list is passed to the variable <code>sequence3d</code>."
   ]
  },
  {
   "cell_type": "code",
   "execution_count": 55,
   "metadata": {
    "deletable": false,
    "nbgrader": {
     "cell_type": "code",
     "checksum": "3a03bd733e89a10b61fabf88f8b8f00a",
     "grade": false,
     "grade_id": "cell-4e0eb48fdcf7e994",
     "locked": false,
     "schema_version": 3,
     "solution": true,
     "task": false
    }
   },
   "outputs": [
    {
     "name": "stdout",
     "output_type": "stream",
     "text": [
      "[0.0, 1.0, 0.36787944117144233, 0.6922006275553464, 0.5004735005636368, 0.6062435350855974, 0.545395785975027, 0.5796123355033789, 0.5601154613610891, 0.571143115080177, 0.5648793473910495, 0.5684287250290607, 0.5664147331468833, 0.5675566373282834, 0.5669089119214953, 0.5672762321755696, 0.5670678983907884, 0.567186050099357, 0.5671190400572149, 0.5671570440012975, 0.5671354902062784, 0.5671477142601192, 0.567140781458298, 0.56714471334657, 0.5671424834013071, 0.5671437480994115, 0.5671430308342419]\n"
     ]
    }
   ],
   "source": [
    "oldx = 0.0\n",
    "newx = exp(-oldx)\n",
    "sequence3d = [oldx,newx]\n",
    "# while loop\n",
    "while abs(oldx-newx) > 1e-6:#\n",
    "    oldx = newx\n",
    "    newx = exp(-oldx)\n",
    "    sequence3d.append(newx)\n",
    "\n",
    "# print final value of xlist\n",
    "print(sequence3d)"
   ]
  },
  {
   "cell_type": "code",
   "execution_count": 57,
   "metadata": {
    "deletable": false,
    "editable": false,
    "nbgrader": {
     "cell_type": "code",
     "checksum": "79f5d1fba400b3d253e4960ec9a91277",
     "grade": true,
     "grade_id": "cell-9512340cbc626db3",
     "locked": true,
     "points": 1,
     "schema_version": 3,
     "solution": false,
     "task": false
    }
   },
   "outputs": [
    {
     "name": "stdout",
     "output_type": "stream",
     "text": [
      "Question 3(d) is correct!!\n"
     ]
    },
    {
     "data": {
      "text/plain": [
       "1"
      ]
     },
     "execution_count": 57,
     "metadata": {},
     "output_type": "execute_result"
    }
   ],
   "source": [
    "# 1 Mark\n",
    "question3_d(sequence3d)"
   ]
  },
  {
   "cell_type": "markdown",
   "metadata": {
    "deletable": false,
    "editable": false,
    "nbgrader": {
     "cell_type": "markdown",
     "checksum": "f3fa31f6eb1b1c48336d06a9c775a33a",
     "grade": false,
     "grade_id": "cell-fb43ad232decaa74",
     "locked": true,
     "schema_version": 3,
     "solution": false,
     "task": false
    }
   },
   "source": [
    "(e) Amazingly, one of the best, most efficient methods we have for calculating <b>highest common factors</b> derives ultimately from an ancient Greek mathematician (though we describe it using more modern terminology).\n",
    "\n",
    "To find the highest common factor of $a$ and $b$, we replace the pair $(a, b)$ with the pair $(b, a\\, {\\rm mod}\\, b)$, and keep doing this until $b$ becomes zero; at this point, the highest common factor is equal to the current value of $a$.\n",
    "\n",
    "So, for example, to calculate the highest common factor of $1731$ and $717$:\n",
    "\n",
    "<ul>\n",
    "    <li>replace $(1731, 717)$ with $(717, 1731\\, {\\rm mod}\\,717) = (717, 297)$; </li>\n",
    "    <li>replace $(717, 297)$ with $(297, 717\\, {\\rm mod}\\,297) = (297, 123)$; </li>\n",
    "    <li>replace $(297, 123)$ with $(123, 297\\, {\\rm mod}\\,123) = (123, 51)$; </li>\n",
    "    <li>replace $(123, 51)$ with $(51, 123\\, {\\rm mod}\\,51) = (51, 21)$; </li>\n",
    "    <li>replace $(51, 21)$ with $(21, 51\\, {\\rm mod}\\,21) = (21, 9)$; </li>\n",
    "    <li>replace $(21, 9)$ with $(9, 21\\, {\\rm mod}\\,9) = (9, 3)$; </li>\n",
    "    <li>replace $(9, 3)$ with $(3, 9\\, {\\rm mod}\\,3) = (3, 0)$. </li>\n",
    "</ul>\n",
    "\n",
    "The highest common factor is $3$.\n",
    "\n",
    "Write a <code>while</code> loop that uses Euclid's algorithm to calculate the highest common factor of 333216746851 and 318509155313."
   ]
  },
  {
   "cell_type": "code",
   "execution_count": 59,
   "metadata": {
    "deletable": false,
    "nbgrader": {
     "cell_type": "code",
     "checksum": "837efc465085289f3b72762b620efd76",
     "grade": false,
     "grade_id": "cell-ab95a7ce31bb9cb2",
     "locked": false,
     "schema_version": 3,
     "solution": true,
     "task": false
    }
   },
   "outputs": [
    {
     "name": "stdout",
     "output_type": "stream",
     "text": [
      "318509155313 14707591538\n",
      "14707591538 9649733015\n",
      "9649733015 5057858523\n",
      "5057858523 4591874492\n",
      "4591874492 465984031\n",
      "465984031 398018213\n",
      "398018213 67965818\n",
      "67965818 58189123\n",
      "58189123 9776695\n",
      "9776695 9305648\n",
      "9305648 471047\n",
      "471047 355755\n",
      "355755 115292\n",
      "115292 9879\n",
      "9879 6623\n",
      "6623 3256\n",
      "3256 111\n",
      "111 37\n",
      "37 0\n",
      "37\n"
     ]
    }
   ],
   "source": [
    "# initialize a and b\n",
    "a = 333216746851\n",
    "b = 318509155313\n",
    "\n",
    "while b != 0:\n",
    "    if b == 0:\n",
    "        break\n",
    "    else:\n",
    "        c = a%b\n",
    "        a = b\n",
    "        b = c\n",
    "    \n",
    "    print(a,b)\n",
    "\n",
    "\n",
    "# print final value of a\n",
    "print(a) "
   ]
  },
  {
   "cell_type": "code",
   "execution_count": 61,
   "metadata": {
    "deletable": false,
    "editable": false,
    "nbgrader": {
     "cell_type": "code",
     "checksum": "f6fc06dec37829abaecbe49b6bc8ea9b",
     "grade": true,
     "grade_id": "cell-ce94a1b1738f7322",
     "locked": true,
     "points": 1,
     "schema_version": 3,
     "solution": false,
     "task": false
    }
   },
   "outputs": [
    {
     "name": "stdout",
     "output_type": "stream",
     "text": [
      "Question 3(e) is correct!!\n"
     ]
    },
    {
     "data": {
      "text/plain": [
       "1"
      ]
     },
     "execution_count": 61,
     "metadata": {},
     "output_type": "execute_result"
    }
   ],
   "source": [
    "# 1 Mark\n",
    "question3_e(a)"
   ]
  },
  {
   "cell_type": "markdown",
   "metadata": {
    "deletable": false,
    "editable": false,
    "nbgrader": {
     "cell_type": "markdown",
     "checksum": "65edcaef8957fed03a93d29e055d9edf",
     "grade": false,
     "grade_id": "cell-d9b77056b114323c",
     "locked": true,
     "schema_version": 3,
     "solution": false,
     "task": false
    }
   },
   "source": [
    "(f) Compare the speed of convergence to $\\pi$ of the following three summations:\n",
    "\n",
    "(i) $\\displaystyle{\\pi = \\sum_{n=0}^\\infty \\frac{4\\times(-1)^n}{(2\\,n+1)};}$\n",
    "\n",
    "(ii) $\\displaystyle{\\pi = \\sum_{n=0}^\\infty \\frac{2^{n+1}\\,(n!)^2}{(2\\,n+1)!};}$\n",
    "\n",
    "(iii) $\\displaystyle{\\pi = \\sum_{n=0}^\\infty \\frac{\\sqrt{12}\\,(-1)^n}{3^n\\,(2\\,n+1)}.}$\n",
    "\n",
    "Do this by finding, in each case, the smallest value of $N$ such that the $N$th partial sum,\n",
    "\n",
    "$$\\sum_{n=0}^N a_n,$$\n",
    "\n",
    "differs from $\\pi$ by $0.00001$ or less."
   ]
  },
  {
   "cell_type": "code",
   "execution_count": 65,
   "metadata": {
    "deletable": false,
    "nbgrader": {
     "cell_type": "code",
     "checksum": "af6bfe5075a8e089dd069704b1e7cdde",
     "grade": false,
     "grade_id": "cell-51ab9ae5c92ea37e",
     "locked": false,
     "schema_version": 3,
     "solution": true,
     "task": false
    }
   },
   "outputs": [],
   "source": [
    "from math import pi, factorial, sqrt\n",
    "\n",
    "# summation (i)\n",
    "total1 = 0.0\n",
    "n1 = -1\n",
    "n = 0\n",
    "while abs(total1 - pi) > 1e-5:\n",
    "    n1 = n1 + 1\n",
    "    total1 = total1 + (4*(-1)**n1)/((2*n1)+1)\n",
    "    "
   ]
  },
  {
   "cell_type": "code",
   "execution_count": 67,
   "metadata": {
    "deletable": false,
    "nbgrader": {
     "cell_type": "code",
     "checksum": "11d9863119f556998a6fd04d0c601c90",
     "grade": false,
     "grade_id": "cell-7a9ba58f2e633227",
     "locked": false,
     "schema_version": 3,
     "solution": true,
     "task": false
    }
   },
   "outputs": [],
   "source": [
    "# summation (ii)\n",
    "total2 = 0.0\n",
    "n2 = -1\n",
    "while abs(total2 - pi) > 1e-5:\n",
    "    n2 = n2 + 1\n",
    "    total2 = total2 + ((2**(n2+1))*((factorial(n2))**2))/factorial((2*n2)+1)"
   ]
  },
  {
   "cell_type": "code",
   "execution_count": 69,
   "metadata": {
    "deletable": false,
    "nbgrader": {
     "cell_type": "code",
     "checksum": "a82bbb37475cb173018cca967ec6f859",
     "grade": false,
     "grade_id": "cell-1b1c067ab44a278e",
     "locked": false,
     "schema_version": 3,
     "solution": true,
     "task": false
    }
   },
   "outputs": [],
   "source": [
    "# summation (iii)\n",
    "total3 = 0.0\n",
    "n3 = -1\n",
    "while abs(total3 - pi) > 1e-5:\n",
    "    n3 = n3 + 1\n",
    "    total3 = total3 + (sqrt(12)*((-1)**n3))/((3**n3)*((2*n3)+1))"
   ]
  },
  {
   "cell_type": "code",
   "execution_count": 71,
   "metadata": {
    "deletable": false,
    "editable": false,
    "nbgrader": {
     "cell_type": "code",
     "checksum": "742ea52859eb15fc2582757edbf06c27",
     "grade": false,
     "grade_id": "cell-dc7817712e0b3ce8",
     "locked": true,
     "schema_version": 3,
     "solution": false,
     "task": false
    }
   },
   "outputs": [
    {
     "name": "stdout",
     "output_type": "stream",
     "text": [
      "[100000, 16, 8]\n"
     ]
    }
   ],
   "source": [
    "print([n1, n2, n3])"
   ]
  },
  {
   "cell_type": "code",
   "execution_count": 73,
   "metadata": {
    "deletable": false,
    "editable": false,
    "nbgrader": {
     "cell_type": "code",
     "checksum": "48d24d195b1eef6e3440b69f36fa937a",
     "grade": true,
     "grade_id": "cell-8f9ac70d1dce61c1",
     "locked": true,
     "points": 3,
     "schema_version": 3,
     "solution": false,
     "task": false
    }
   },
   "outputs": [
    {
     "name": "stdout",
     "output_type": "stream",
     "text": [
      "Value for n1 is correct!!\n",
      "Value for n2 is correct!!\n",
      "Value for n3 is correct!!\n",
      "3 out of 3 tests passed\n"
     ]
    },
    {
     "data": {
      "text/plain": [
       "3"
      ]
     },
     "execution_count": 73,
     "metadata": {},
     "output_type": "execute_result"
    }
   ],
   "source": [
    "# 3 Marks\n",
    "question3_f(n1, n2, n3)"
   ]
  },
  {
   "cell_type": "markdown",
   "metadata": {
    "deletable": false,
    "editable": false,
    "nbgrader": {
     "cell_type": "markdown",
     "checksum": "a0784d0741bebf7683f551c906c13199",
     "grade": false,
     "grade_id": "cell-71ca31b040fd84b6",
     "locked": true,
     "schema_version": 3,
     "solution": false,
     "task": false
    }
   },
   "source": [
    "(g) (<b>More challenging</b>) Write a `while` loop to calculate, as a list, the digits of 2213 in binary. Assign this list to the variable `int_digits`."
   ]
  },
  {
   "cell_type": "code",
   "execution_count": 75,
   "metadata": {
    "deletable": false,
    "nbgrader": {
     "cell_type": "code",
     "checksum": "914870f0254439c124a2bca9db45cffe",
     "grade": false,
     "grade_id": "cell-52903d8b00f97786",
     "locked": false,
     "schema_version": 3,
     "solution": true,
     "task": false
    }
   },
   "outputs": [
    {
     "name": "stdout",
     "output_type": "stream",
     "text": [
      "[1, 0, 0, 0, 1, 0, 1, 0, 0, 1, 0, 1]\n"
     ]
    }
   ],
   "source": [
    "a = 2213\n",
    "int_digits = []\n",
    "\n",
    "while a > 0:\n",
    "    int_digits.append(a%2)\n",
    "    a //= 2\n",
    "\n",
    "int_digits.reverse()   \n",
    "\n",
    "print(int_digits)"
   ]
  },
  {
   "cell_type": "code",
   "execution_count": 77,
   "metadata": {
    "deletable": false,
    "editable": false,
    "nbgrader": {
     "cell_type": "code",
     "checksum": "40ff9d0de513bfe6441bc9dc9bb64480",
     "grade": true,
     "grade_id": "cell-cc667409c18febce",
     "locked": true,
     "points": 3,
     "schema_version": 3,
     "solution": false,
     "task": false
    }
   },
   "outputs": [
    {
     "name": "stdout",
     "output_type": "stream",
     "text": [
      "Your digits form a list.\n",
      "\n",
      "Your list contains the correct values.\n",
      "\n",
      "Your list is in the right order.\n",
      "\n",
      "3 out of 3 tests passed\n"
     ]
    },
    {
     "data": {
      "text/plain": [
       "3"
      ]
     },
     "execution_count": 77,
     "metadata": {},
     "output_type": "execute_result"
    }
   ],
   "source": [
    "# 3 Marks\n",
    "question3_g(int_digits)"
   ]
  },
  {
   "cell_type": "markdown",
   "metadata": {
    "deletable": false,
    "editable": false,
    "nbgrader": {
     "cell_type": "markdown",
     "checksum": "a24d966568f6c9ce9d859960dc63831c",
     "grade": false,
     "grade_id": "cell-b69cee79909daab8",
     "locked": true,
     "schema_version": 3,
     "solution": false,
     "task": false
    }
   },
   "source": [
    "(h) (<b>Even more challenging</b>) Write a `while` loop to calculate, as a list, the first ten digits, after the point, of 0.8191 in binary. Assign this list to the variable `float_digits`."
   ]
  },
  {
   "cell_type": "code",
   "execution_count": null,
   "metadata": {
    "deletable": false,
    "nbgrader": {
     "cell_type": "code",
     "checksum": "aa853f0cf9b1f218f2fc3726f657a80a",
     "grade": false,
     "grade_id": "cell-5fb9ad8b622eea4a",
     "locked": false,
     "schema_version": 3,
     "solution": true,
     "task": false
    }
   },
   "outputs": [],
   "source": [
    "# YOUR CODE HERE\n",
    "raise NotImplementedError()\n",
    "\n",
    "print(float_digits)"
   ]
  },
  {
   "cell_type": "code",
   "execution_count": null,
   "metadata": {
    "deletable": false,
    "editable": false,
    "nbgrader": {
     "cell_type": "code",
     "checksum": "7893e9fbfe864868e258f903324830b3",
     "grade": true,
     "grade_id": "cell-a9d5c2840c190f3b",
     "locked": true,
     "points": 3,
     "schema_version": 3,
     "solution": false,
     "task": false
    }
   },
   "outputs": [],
   "source": [
    "# 3 Marks\n",
    "question3_h(float_digits)"
   ]
  },
  {
   "cell_type": "markdown",
   "metadata": {
    "deletable": false,
    "editable": false,
    "nbgrader": {
     "cell_type": "markdown",
     "checksum": "913b5cb2dd9b0cd4ee8c2ba503987ee9",
     "grade": false,
     "grade_id": "cell-09e9b685bce2ea8a",
     "locked": true,
     "schema_version": 3,
     "solution": false,
     "task": false
    }
   },
   "source": [
    "## Question 4 (Bonus Question)\n",
    "\n",
    "The following question is a bonus question, and is for enrichment only. Please do not worry if it seems challenging for now; as it assumes knowledge of functions. You can always come back to it at a later stage in the module.\n",
    "\n",
    "\n",
    "A Pythagorean triple is the set of three natural numbers, $a < b < c$, for which,\n",
    "$$\n",
    "a^2 + b^2 = c^2.\n",
    "$$\n",
    "For example, $3^2 + 4^2 = 9 + 16  = 25 = 5^2.$ \n",
    "Write a function `pyTriple` which takes as input `total`, assumed to be an integer, and returns, if one exists, a Pythagorean triple `a`, `b`, `c` such that `a + b + c` is equal to `total`, together with the product `abc`. Otherwise the function should return the string, ` 'No pythagorean triple satisfies that total'`."
   ]
  },
  {
   "cell_type": "code",
   "execution_count": null,
   "metadata": {
    "deletable": false,
    "nbgrader": {
     "cell_type": "code",
     "checksum": "4dd86c64af2dc6e2c02af93cd557f510",
     "grade": false,
     "grade_id": "cell-6fd51c7f8eb4d25b",
     "locked": false,
     "schema_version": 3,
     "solution": true,
     "task": false
    }
   },
   "outputs": [],
   "source": [
    "from math import sqrt\n",
    "\n",
    "def pyTriple(total):\n",
    "    \n",
    "# YOUR CODE HERE\n",
    "raise NotImplementedError()"
   ]
  },
  {
   "cell_type": "code",
   "execution_count": null,
   "metadata": {
    "deletable": false,
    "editable": false,
    "nbgrader": {
     "cell_type": "code",
     "checksum": "e750908886ace40d6726c6c20a094ecc",
     "grade": true,
     "grade_id": "cell-b712883df542f9b4",
     "locked": true,
     "points": 3,
     "schema_version": 3,
     "solution": false,
     "task": false
    }
   },
   "outputs": [],
   "source": [
    "# 1 Mark\n",
    "\n",
    "test0 = (12,True) # A triple exists with total 12\n",
    "test1 = (7,False) # No triple exists with total 7\n",
    "test2 = (70,True) # A triple exists with total 70\n",
    "question4(_globals, test0, test1, test2)"
   ]
  },
  {
   "cell_type": "code",
   "execution_count": null,
   "metadata": {
    "deletable": false,
    "editable": false,
    "nbgrader": {
     "cell_type": "code",
     "checksum": "955cf9d641cd3a1fca6ba3422d2785d9",
     "grade": true,
     "grade_id": "cell-891318fc715f40eb",
     "locked": true,
     "points": 1,
     "schema_version": 3,
     "solution": false,
     "task": false
    }
   },
   "outputs": [],
   "source": [
    "# Run this cell to see if your implementation is fast enough\n",
    "# 1 Mark\n",
    "test3 = (1000,True)\n",
    "question4_timed(_globals,test3)"
   ]
  },
  {
   "cell_type": "code",
   "execution_count": null,
   "metadata": {},
   "outputs": [],
   "source": []
  }
 ],
 "metadata": {
  "kernelspec": {
   "display_name": "Python 3 (ipykernel)",
   "language": "python",
   "name": "python3"
  },
  "language_info": {
   "codemirror_mode": {
    "name": "ipython",
    "version": 3
   },
   "file_extension": ".py",
   "mimetype": "text/x-python",
   "name": "python",
   "nbconvert_exporter": "python",
   "pygments_lexer": "ipython3",
   "version": "3.12.7"
  }
 },
 "nbformat": 4,
 "nbformat_minor": 4
}
